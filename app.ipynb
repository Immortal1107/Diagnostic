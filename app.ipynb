{
 "cells": [
  {
   "cell_type": "code",
   "execution_count": 1,
   "id": "6f86a20f",
   "metadata": {},
   "outputs": [],
   "source": [
    "import os\n",
    "import numpy as np\n",
    "import flask\n",
    "import pickle\n",
    "from flask import Flask, render_template, request\n",
    "\n",
    "#creating instance of the class\n",
    "app=Flask(__name__)\n",
    "\n",
    "#to tell flask what url shoud trigger the function index()\n",
    "@app.route('/')\n",
    "@app.route('/start')\n",
    "def index():\n",
    "    return flask.render_template('start.html')"
   ]
  },
  {
   "cell_type": "code",
   "execution_count": 2,
   "id": "6ed2e809",
   "metadata": {},
   "outputs": [],
   "source": [
    "@app.route('/diabetes.html')\n",
    "def diabetes():\n",
    "    return flask.render_template('/diabetes.html')"
   ]
  },
  {
   "cell_type": "code",
   "execution_count": 3,
   "id": "a0ed2efe",
   "metadata": {},
   "outputs": [],
   "source": [
    "@app.route('/stroke.html')\n",
    "def stroke():\n",
    "    return flask.render_template('/stroke.html')"
   ]
  },
  {
   "cell_type": "code",
   "execution_count": 4,
   "id": "0254b1e9",
   "metadata": {},
   "outputs": [],
   "source": [
    "@app.route('/heart_attack.html')\n",
    "def heart_attack():\n",
    "    return flask.render_template('/heart_attack.html')"
   ]
  },
  {
   "cell_type": "code",
   "execution_count": 5,
   "id": "cc661031",
   "metadata": {},
   "outputs": [],
   "source": [
    "#prediction function\n",
    "def ValuePredictor_diabetes(to_predict_list):\n",
    "    to_predict = np.array(to_predict_list).reshape(1,14)\n",
    "    loaded_model = pickle.load(open(r'C:\\Users\\kgayvoronskiy\\webapp\\model\\model_diabetes.pkl','rb'))\n",
    "    result = loaded_model.predict(to_predict)\n",
    "    return result[0]\n",
    "\n",
    "\n",
    "@app.route('/result_diabetes',methods = ['POST'])\n",
    "def result_diabetes():\n",
    "    if request.method == 'POST':\n",
    "        to_predict_list = request.form.to_dict()\n",
    "        to_predict_list=list(to_predict_list.values())\n",
    "        to_predict_list = list(map(float, to_predict_list))\n",
    "        result = ValuePredictor_diabetes(to_predict_list)\n",
    "        \n",
    "        if int(result)==1:\n",
    "            prediction='Diabetes'\n",
    "        else:\n",
    "            prediction='No diabetes'\n",
    "            \n",
    "        return render_template(\"/result_diabetes.html\",prediction=prediction)"
   ]
  },
  {
   "cell_type": "code",
   "execution_count": 6,
   "id": "a6966363",
   "metadata": {},
   "outputs": [],
   "source": [
    "#prediction function\n",
    "def ValuePredictor_stroke(to_predict_list):\n",
    "    to_predict = np.array(to_predict_list).reshape(1,10)\n",
    "    loaded_model = pickle.load(open(r'C:\\Users\\kgayvoronskiy\\webapp\\model\\model_stroke.pkl','rb'))\n",
    "    result = loaded_model.predict(to_predict)\n",
    "    return result[0]\n",
    "\n",
    "\n",
    "@app.route('/result_stroke',methods = ['POST'])\n",
    "def result_stroke():\n",
    "    if request.method == 'POST':\n",
    "        to_predict_list = request.form.to_dict()\n",
    "        to_predict_list=list(to_predict_list.values())\n",
    "        to_predict_list = list(map(float, to_predict_list))\n",
    "        result = ValuePredictor_stroke(to_predict_list)\n",
    "        \n",
    "        if int(result)==1:\n",
    "            prediction='Stroke'\n",
    "        else:\n",
    "            prediction='No stroke'\n",
    "            \n",
    "        return render_template(\"/result_stroke.html\",prediction=prediction)"
   ]
  },
  {
   "cell_type": "code",
   "execution_count": 7,
   "id": "a8587938",
   "metadata": {},
   "outputs": [],
   "source": [
    "#prediction function\n",
    "def ValuePredictor_heart_attack(to_predict_list):\n",
    "    to_predict = np.array(to_predict_list).reshape(1,13)\n",
    "    loaded_model = pickle.load(open(r'C:\\Users\\kgayvoronskiy\\webapp\\model\\model_heart_attack.pkl','rb'))\n",
    "    result = loaded_model.predict(to_predict)\n",
    "    return result[0]\n",
    "\n",
    "\n",
    "@app.route('/result_heart_attack',methods = ['POST'])\n",
    "def result_heart_attack():\n",
    "    if request.method == 'POST':\n",
    "        to_predict_list = request.form.to_dict()\n",
    "        to_predict_list=list(to_predict_list.values())\n",
    "        to_predict_list = list(map(float, to_predict_list))\n",
    "        result = ValuePredictor_heart_attack(to_predict_list)\n",
    "        \n",
    "        if int(result)==1:\n",
    "            prediction='Heart attack'\n",
    "        else:\n",
    "            prediction='No heart attack'\n",
    "            \n",
    "        return render_template(\"/result_heart_attack.html\",prediction=prediction)"
   ]
  },
  {
   "cell_type": "code",
   "execution_count": 8,
   "id": "b35ee55f",
   "metadata": {},
   "outputs": [
    {
     "name": "stdout",
     "output_type": "stream",
     "text": [
      " * Serving Flask app \"__main__\" (lazy loading)\n",
      " * Environment: production\n",
      "\u001b[31m   WARNING: This is a development server. Do not use it in a production deployment.\u001b[0m\n",
      "\u001b[2m   Use a production WSGI server instead.\u001b[0m\n",
      " * Debug mode: off\n"
     ]
    },
    {
     "name": "stderr",
     "output_type": "stream",
     "text": [
      " * Running on http://127.0.0.1:5000/ (Press CTRL+C to quit)\n",
      "127.0.0.1 - - [01/Apr/2023 20:30:53] \"GET / HTTP/1.1\" 200 -\n",
      "127.0.0.1 - - [01/Apr/2023 20:30:53] \"GET /static/style.css HTTP/1.1\" 200 -\n",
      "127.0.0.1 - - [01/Apr/2023 20:30:53] \"GET /favicon.ico HTTP/1.1\" 404 -\n",
      "127.0.0.1 - - [01/Apr/2023 20:30:54] \"GET /diabetes.html HTTP/1.1\" 200 -\n",
      "C:\\ProgramData\\Anaconda3\\lib\\site-packages\\sklearn\\base.py:450: UserWarning: X does not have valid feature names, but StandardScaler was fitted with feature names\n",
      "  warnings.warn(\n",
      "C:\\ProgramData\\Anaconda3\\lib\\site-packages\\sklearn\\base.py:450: UserWarning: X does not have valid feature names, but StandardScaler was fitted with feature names\n",
      "  warnings.warn(\n",
      "C:\\ProgramData\\Anaconda3\\lib\\site-packages\\sklearn\\base.py:450: UserWarning: X does not have valid feature names, but StandardScaler was fitted with feature names\n",
      "  warnings.warn(\n",
      "127.0.0.1 - - [01/Apr/2023 20:31:21] \"POST /result_diabetes HTTP/1.1\" 200 -\n",
      "127.0.0.1 - - [01/Apr/2023 20:31:23] \"GET /diabetes.html HTTP/1.1\" 200 -\n",
      "127.0.0.1 - - [01/Apr/2023 20:31:25] \"GET /start HTTP/1.1\" 200 -\n",
      "127.0.0.1 - - [01/Apr/2023 20:31:25] \"GET /stroke.html HTTP/1.1\" 200 -\n",
      "C:\\ProgramData\\Anaconda3\\lib\\site-packages\\sklearn\\base.py:450: UserWarning: X does not have valid feature names, but StandardScaler was fitted with feature names\n",
      "  warnings.warn(\n",
      "127.0.0.1 - - [01/Apr/2023 20:31:33] \"POST /result_stroke HTTP/1.1\" 200 -\n",
      "127.0.0.1 - - [01/Apr/2023 20:31:34] \"GET /stroke.html HTTP/1.1\" 200 -\n",
      "C:\\ProgramData\\Anaconda3\\lib\\site-packages\\sklearn\\base.py:450: UserWarning: X does not have valid feature names, but StandardScaler was fitted with feature names\n",
      "  warnings.warn(\n",
      "127.0.0.1 - - [01/Apr/2023 20:31:39] \"POST /result_stroke HTTP/1.1\" 200 -\n",
      "127.0.0.1 - - [01/Apr/2023 20:31:40] \"GET /stroke.html HTTP/1.1\" 200 -\n",
      "127.0.0.1 - - [01/Apr/2023 20:31:41] \"GET /start HTTP/1.1\" 200 -\n",
      "127.0.0.1 - - [01/Apr/2023 20:31:42] \"GET /heart_attack.html HTTP/1.1\" 200 -\n",
      "C:\\ProgramData\\Anaconda3\\lib\\site-packages\\sklearn\\base.py:450: UserWarning: X does not have valid feature names, but StandardScaler was fitted with feature names\n",
      "  warnings.warn(\n",
      "C:\\ProgramData\\Anaconda3\\lib\\site-packages\\sklearn\\base.py:450: UserWarning: X does not have valid feature names, but StandardScaler was fitted with feature names\n",
      "  warnings.warn(\n",
      "C:\\ProgramData\\Anaconda3\\lib\\site-packages\\sklearn\\base.py:450: UserWarning: X does not have valid feature names, but StandardScaler was fitted with feature names\n",
      "  warnings.warn(\n",
      "127.0.0.1 - - [01/Apr/2023 20:32:20] \"POST /result_heart_attack HTTP/1.1\" 200 -\n",
      "127.0.0.1 - - [01/Apr/2023 20:32:21] \"GET /heart_attack.html HTTP/1.1\" 200 -\n",
      "127.0.0.1 - - [01/Apr/2023 20:32:22] \"GET /start HTTP/1.1\" 200 -\n"
     ]
    }
   ],
   "source": [
    "if __name__ == '__main__':\n",
    "    app.run()"
   ]
  },
  {
   "cell_type": "code",
   "execution_count": null,
   "id": "f4050ff6",
   "metadata": {},
   "outputs": [],
   "source": []
  },
  {
   "cell_type": "code",
   "execution_count": null,
   "id": "00a5ec57",
   "metadata": {},
   "outputs": [],
   "source": []
  }
 ],
 "metadata": {
  "kernelspec": {
   "display_name": "Python 3 (ipykernel)",
   "language": "python",
   "name": "python3"
  },
  "language_info": {
   "codemirror_mode": {
    "name": "ipython",
    "version": 3
   },
   "file_extension": ".py",
   "mimetype": "text/x-python",
   "name": "python",
   "nbconvert_exporter": "python",
   "pygments_lexer": "ipython3",
   "version": "3.9.12"
  }
 },
 "nbformat": 4,
 "nbformat_minor": 5
}
